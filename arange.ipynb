{
 "cells": [
  {
   "cell_type": "code",
   "execution_count": 59,
   "metadata": {},
   "outputs": [],
   "source": [
    "import os\n",
    "from glob import glob\n",
    "import shutil\n",
    "import random"
   ]
  },
  {
   "cell_type": "code",
   "execution_count": 37,
   "metadata": {},
   "outputs": [],
   "source": [
    "images = glob('./data/*/*.png')"
   ]
  },
  {
   "cell_type": "code",
   "execution_count": 38,
   "metadata": {},
   "outputs": [
    {
     "data": {
      "text/plain": [
       "18000"
      ]
     },
     "execution_count": 38,
     "metadata": {},
     "output_type": "execute_result"
    }
   ],
   "source": [
    "len(images)"
   ]
  },
  {
   "cell_type": "code",
   "execution_count": 39,
   "metadata": {},
   "outputs": [],
   "source": [
    "os.makedirs('./data/images', exist_ok=True)"
   ]
  },
  {
   "cell_type": "code",
   "execution_count": 40,
   "metadata": {},
   "outputs": [],
   "source": [
    "for img in images: shutil.move(img, './data/images')"
   ]
  },
  {
   "cell_type": "code",
   "execution_count": 43,
   "metadata": {},
   "outputs": [],
   "source": [
    "shutil.rmtree('./data/test')\n",
    "shutil.rmtree('./data/train')"
   ]
  },
  {
   "cell_type": "code",
   "execution_count": 41,
   "metadata": {},
   "outputs": [],
   "source": [
    "labels = glob('./data/*/*.txt')"
   ]
  },
  {
   "cell_type": "code",
   "execution_count": 42,
   "metadata": {},
   "outputs": [
    {
     "data": {
      "text/plain": [
       "15000"
      ]
     },
     "execution_count": 42,
     "metadata": {},
     "output_type": "execute_result"
    }
   ],
   "source": [
    "len(labels)"
   ]
  },
  {
   "cell_type": "code",
   "execution_count": 50,
   "metadata": {},
   "outputs": [],
   "source": [
    "images = glob('./data/images/*.png')\n",
    "for image in images:\n",
    "    if image.replace('.png', '.txt').replace('images', 'labels') not in labels:\n",
    "        os.remove(image)"
   ]
  },
  {
   "cell_type": "code",
   "execution_count": 53,
   "metadata": {},
   "outputs": [
    {
     "data": {
      "text/plain": [
       "15000"
      ]
     },
     "execution_count": 53,
     "metadata": {},
     "output_type": "execute_result"
    }
   ],
   "source": [
    "images = glob('./data/images/*.png')\n",
    "len(images)"
   ]
  },
  {
   "cell_type": "code",
   "execution_count": 56,
   "metadata": {},
   "outputs": [],
   "source": [
    "empty_labels = []\n",
    "for label in labels:\n",
    "    if os.path.getsize(label) == 0:\n",
    "        empty_labels.append(label)"
   ]
  },
  {
   "cell_type": "code",
   "execution_count": 57,
   "metadata": {},
   "outputs": [
    {
     "data": {
      "text/plain": [
       "10606"
      ]
     },
     "execution_count": 57,
     "metadata": {},
     "output_type": "execute_result"
    }
   ],
   "source": [
    "len(empty_labels)"
   ]
  },
  {
   "cell_type": "code",
   "execution_count": 63,
   "metadata": {},
   "outputs": [],
   "source": [
    "random.shuffle(empty_labels)\n",
    "for label in empty_labels[int(len(empty_labels) * 0.1):]:\n",
    "    os.remove(label)\n",
    "    os.remove(label.replace('.txt', '.png').replace('labels', 'images'))"
   ]
  },
  {
   "cell_type": "code",
   "execution_count": 64,
   "metadata": {},
   "outputs": [
    {
     "data": {
      "text/plain": [
       "(5454, 5454)"
      ]
     },
     "execution_count": 64,
     "metadata": {},
     "output_type": "execute_result"
    }
   ],
   "source": [
    "len(glob('./data/images/*.png')), len(glob('./data/labels/*.txt'))"
   ]
  },
  {
   "cell_type": "code",
   "execution_count": 65,
   "metadata": {},
   "outputs": [],
   "source": [
    "yolo_folders = ['train', 'val']\n",
    "folders = ['images', 'labels']\n",
    "\n",
    "for yolo_folder in yolo_folders:\n",
    "    for folder in folders:\n",
    "        os.makedirs(f'./data/{yolo_folder}/{folder}', exist_ok=True)"
   ]
  },
  {
   "cell_type": "code",
   "execution_count": 66,
   "metadata": {},
   "outputs": [
    {
     "data": {
      "text/plain": [
       "(4363, 4363, 1091, 1091)"
      ]
     },
     "execution_count": 66,
     "metadata": {},
     "output_type": "execute_result"
    }
   ],
   "source": [
    "images = glob('./data/images/*.png')\n",
    "random.shuffle(images)\n",
    "split = int(len(images) * 0.8)\n",
    "train_images = images[:split]\n",
    "val_images = images[split:]\n",
    "\n",
    "for image in train_images:\n",
    "    shutil.move(image, image.replace('images', 'train/images'))\n",
    "    shutil.move(image.replace('images', 'labels').replace('.png', '.txt'), image.replace('images', 'train/labels').replace('.png', '.txt'))\n",
    "\n",
    "for image in val_images:\n",
    "    shutil.move(image, image.replace('images', 'val/images'))\n",
    "    shutil.move(image.replace('images', 'labels').replace('.png', '.txt'), image.replace('images', 'val/labels').replace('.png', '.txt'))\n",
    "\n",
    "len(glob('./data/train/images/*.png')), len(glob('./data/train/labels/*.txt')), len(glob('./data/val/images/*.png')), len(glob('./data/val/labels/*.txt'))"
   ]
  },
  {
   "cell_type": "code",
   "execution_count": 67,
   "metadata": {},
   "outputs": [],
   "source": [
    "shutil.rmtree('./data/images', ignore_errors=True)\n",
    "shutil.rmtree('./data/labels', ignore_errors=True)"
   ]
  },
  {
   "cell_type": "code",
   "execution_count": null,
   "metadata": {},
   "outputs": [],
   "source": []
  }
 ],
 "metadata": {
  "kernelspec": {
   "display_name": "env",
   "language": "python",
   "name": "python3"
  },
  "language_info": {
   "codemirror_mode": {
    "name": "ipython",
    "version": 3
   },
   "file_extension": ".py",
   "mimetype": "text/x-python",
   "name": "python",
   "nbconvert_exporter": "python",
   "pygments_lexer": "ipython3",
   "version": "3.11.6"
  }
 },
 "nbformat": 4,
 "nbformat_minor": 2
}
