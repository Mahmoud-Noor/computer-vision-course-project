{
 "cells": [
  {
   "cell_type": "code",
   "execution_count": 2,
   "metadata": {},
   "outputs": [],
   "source": [
    "from glob import glob\n",
    "import numpy as np"
   ]
  },
  {
   "cell_type": "code",
   "execution_count": 7,
   "metadata": {},
   "outputs": [],
   "source": [
    "def fix_annotation_file(file_path):\n",
    "    def iou(box1, box2):\n",
    "        x1, y1, w1, h1 = box1\n",
    "        x2, y2, w2, h2 = box2\n",
    "        xi1 = max(x1 - w1 / 2, x2 - w2 / 2)\n",
    "        yi1 = max(y1 - h1 / 2, y2 - h2 / 2)\n",
    "        xi2 = min(x1 + w1 / 2, x2 + w2 / 2)\n",
    "        yi2 = min(y1 + h1 / 2, y2 + h2 / 2)\n",
    "        wi = max(0, xi2 - xi1)\n",
    "        hi = max(0, yi2 - yi1)\n",
    "        intersection = wi * hi\n",
    "        area1 = w1 * h1\n",
    "        area2 = w2 * h2\n",
    "        union = area1 + area2 - intersection\n",
    "        return intersection / union if union != 0 else 0\n",
    "    with open(file_path, 'r') as file:\n",
    "        lines = file.readlines()\n",
    "    processed_boxes = {}\n",
    "    for line in lines:\n",
    "        parts = line.strip().split()\n",
    "        if len(parts) == 5:\n",
    "            class_id, cx, cy, w, h = parts\n",
    "            cx, cy, w, h = map(float, [cx, cy, w, h])\n",
    "            cx, cy, w, h = np.clip([cx, cy, w, h], 0, 1)\n",
    "            cx, cy, w, h = [round(x, 4) for x in [cx, cy, w, h]]\n",
    "            box = (cx, cy, w, h)\n",
    "            if class_id not in processed_boxes:\n",
    "                processed_boxes[class_id] = [box]\n",
    "            else:\n",
    "                add_box = True\n",
    "                for existing_box in processed_boxes[class_id]:\n",
    "                    if iou(box, existing_box) > 0.5:\n",
    "                        add_box = False\n",
    "                        break\n",
    "                if add_box:\n",
    "                    processed_boxes[class_id].append(box)\n",
    "    with open(file_path, 'w') as file:\n",
    "        for class_id, boxes in processed_boxes.items():\n",
    "            for cx, cy, w, h in boxes:\n",
    "                file.write(f\"{class_id} {cx} {cy} {w} {h}\\n\")\n"
   ]
  },
  {
   "cell_type": "code",
   "execution_count": 10,
   "metadata": {},
   "outputs": [
    {
     "data": {
      "text/plain": [
       "5454"
      ]
     },
     "execution_count": 10,
     "metadata": {},
     "output_type": "execute_result"
    }
   ],
   "source": [
    "labels = glob(\"data/*/*/*.txt\")\n",
    "len(labels)"
   ]
  },
  {
   "cell_type": "code",
   "execution_count": 11,
   "metadata": {},
   "outputs": [],
   "source": [
    "for label in labels: fix_annotation_file(label)"
   ]
  },
  {
   "cell_type": "code",
   "execution_count": null,
   "metadata": {},
   "outputs": [],
   "source": []
  }
 ],
 "metadata": {
  "kernelspec": {
   "display_name": "env",
   "language": "python",
   "name": "python3"
  },
  "language_info": {
   "codemirror_mode": {
    "name": "ipython",
    "version": 3
   },
   "file_extension": ".py",
   "mimetype": "text/x-python",
   "name": "python",
   "nbconvert_exporter": "python",
   "pygments_lexer": "ipython3",
   "version": "3.11.6"
  }
 },
 "nbformat": 4,
 "nbformat_minor": 2
}
